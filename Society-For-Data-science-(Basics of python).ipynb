{
 "cells": [
  {
   "cell_type": "code",
   "execution_count": null,
   "id": "1eebb6be",
   "metadata": {},
   "outputs": [],
   "source": [
    "##QUESTION 1"
   ]
  },
  {
   "cell_type": "code",
   "execution_count": 6,
   "id": "fd8943e3",
   "metadata": {},
   "outputs": [
    {
     "name": "stdout",
     "output_type": "stream",
     "text": [
      "Enter a string: Shambhavi\n",
      "Sabai\n"
     ]
    }
   ],
   "source": [
    "s=input(\"Enter a string: \")\n",
    "print(s[::2])"
   ]
  },
  {
   "cell_type": "code",
   "execution_count": null,
   "id": "cbd81f3a",
   "metadata": {},
   "outputs": [],
   "source": [
    "##QUESTION 2"
   ]
  },
  {
   "cell_type": "code",
   "execution_count": 8,
   "id": "473e5fa7",
   "metadata": {},
   "outputs": [
    {
     "name": "stdout",
     "output_type": "stream",
     "text": [
      "Enter number of elements : 4\n",
      "1\n",
      "2\n",
      "3\n",
      "4\n",
      "[2, 4]\n"
     ]
    }
   ],
   "source": [
    "list=[]\n",
    "n = int(input(\"Enter number of elements : \"))\n",
    "for i in range(0, n):\n",
    "    element = int(input())\n",
    " \n",
    "    list.append(element)\n",
    "\n",
    "print(list[1::2])"
   ]
  },
  {
   "cell_type": "code",
   "execution_count": null,
   "id": "d77444eb",
   "metadata": {},
   "outputs": [],
   "source": [
    "##QUESTION 3"
   ]
  },
  {
   "cell_type": "code",
   "execution_count": 15,
   "id": "5d95c8b6",
   "metadata": {},
   "outputs": [
    {
     "name": "stdout",
     "output_type": "stream",
     "text": [
      "Sorted list is:\n",
      "[13, 15, 35, 47, 68, 89]\n"
     ]
    }
   ],
   "source": [
    "List1=[15,47,68,89,35,13]\n",
    "n=6\n",
    "for i in range (n):\n",
    "    for j in range(i + 1, n):\n",
    "        if(List1[i] > List1[j]):\n",
    "            temp = List1[i]\n",
    "            List1[i] = List1[j]\n",
    "            List1[j] = temp\n",
    "            \n",
    "            \n",
    "print(\"Sorted list is:\")\n",
    "print(List1)"
   ]
  },
  {
   "cell_type": "code",
   "execution_count": null,
   "id": "106e8151",
   "metadata": {},
   "outputs": [],
   "source": [
    "##QUESTION 4"
   ]
  },
  {
   "cell_type": "code",
   "execution_count": 26,
   "id": "71ef5e15",
   "metadata": {},
   "outputs": [
    {
     "name": "stdout",
     "output_type": "stream",
     "text": [
      "\n",
      "\n",
      "1\n",
      "\n",
      "12\n",
      "\n",
      "123\n",
      "\n",
      "1234\n",
      "\n",
      "12345\n",
      "\n"
     ]
    }
   ],
   "source": [
    "i=1\n",
    "for i in range(1,7):\n",
    "  for j in range(1,i):\n",
    "     print(j,end=\"\")\n",
    "  print()\n",
    "  print()\n",
    "  \n",
    "        "
   ]
  },
  {
   "cell_type": "code",
   "execution_count": null,
   "id": "00228007",
   "metadata": {},
   "outputs": [],
   "source": [
    "##QUESTION 5"
   ]
  },
  {
   "cell_type": "code",
   "execution_count": 36,
   "id": "060dbcf8",
   "metadata": {},
   "outputs": [
    {
     "name": "stdout",
     "output_type": "stream",
     "text": [
      "Enter a four digit number:5665\n",
      "Number is a Pallindrome\n"
     ]
    }
   ],
   "source": [
    "number=int(input('Enter a four digit number:'))\n",
    "if str(number)[::-1]==str(number):\n",
    "  print(\"Number is a Pallindrome\")\n",
    "else :\n",
    "   print('Number is not a Pallindrome')\n"
   ]
  },
  {
   "cell_type": "code",
   "execution_count": null,
   "id": "212c9215",
   "metadata": {},
   "outputs": [],
   "source": [
    "##QUESTION 6"
   ]
  },
  {
   "cell_type": "code",
   "execution_count": 45,
   "id": "daa4b52a",
   "metadata": {},
   "outputs": [
    {
     "name": "stdout",
     "output_type": "stream",
     "text": [
      "[3, 15, 67, 7, 57, 6, 8, 10, 88]\n"
     ]
    }
   ],
   "source": [
    "list1=[3,15,67,98,7,57]\n",
    "list2=[7,6,8,10,93,88]\n",
    "\n",
    "for i in list1:\n",
    "  if i%2==0:\n",
    "    list1.remove(i)\n",
    "            \n",
    "for j in list2:\n",
    "  if j%2!=0:\n",
    "     list2.remove(j)\n",
    "        \n",
    "        \n",
    "print(list1 + list2)\n"
   ]
  },
  {
   "cell_type": "code",
   "execution_count": null,
   "id": "97a6e33a",
   "metadata": {},
   "outputs": [],
   "source": [
    "##QUESTION 7"
   ]
  },
  {
   "cell_type": "code",
   "execution_count": 46,
   "id": "61ef281a",
   "metadata": {},
   "outputs": [
    {
     "name": "stdout",
     "output_type": "stream",
     "text": [
      "Enter a base:4\n",
      "Enter a exponent:3\n",
      "64\n"
     ]
    }
   ],
   "source": [
    "def exponent(base,exp):\n",
    "    return pow(base,exp)\n",
    "\n",
    "\n",
    "base=int(input('Enter a base:'))\n",
    "exp=int(input('Enter a exponent:'))\n",
    "\n",
    "ans=exponent(base,exp)\n",
    "print(ans)"
   ]
  },
  {
   "cell_type": "code",
   "execution_count": null,
   "id": "0b8f4cb7",
   "metadata": {},
   "outputs": [],
   "source": [
    "##QUESTION 8"
   ]
  },
  {
   "cell_type": "code",
   "execution_count": 68,
   "id": "218193cc",
   "metadata": {},
   "outputs": [
    {
     "name": "stdout",
     "output_type": "stream",
     "text": [
      "Enter a number:5568\n",
      "Number of digits: 4\n"
     ]
    }
   ],
   "source": [
    "def digit(num):    \n",
    "    \n",
    "    global count\n",
    "    if (num != 0):\n",
    "        count +=1\n",
    "        digit(num // 10)\n",
    "    return count\n",
    "count=0\n",
    "number=int(input('Enter a number:'))\n",
    "\n",
    "print(\"Number of digits:\",digit(number))"
   ]
  },
  {
   "cell_type": "code",
   "execution_count": null,
   "id": "8f69936f",
   "metadata": {},
   "outputs": [],
   "source": [
    "##QUESTION 9"
   ]
  },
  {
   "cell_type": "code",
   "execution_count": 70,
   "id": "b54f6d07",
   "metadata": {},
   "outputs": [
    {
     "name": "stdout",
     "output_type": "stream",
     "text": [
      "The blue bag has 10 blue pens\n"
     ]
    }
   ],
   "source": [
    "s='The red bag has 10 red pens'\n",
    "num=s.count('red')\n",
    "print(s.replace('red','blue',num))"
   ]
  },
  {
   "cell_type": "code",
   "execution_count": null,
   "id": "3bee5ab1",
   "metadata": {},
   "outputs": [],
   "source": [
    "##QUESTION 10"
   ]
  },
  {
   "cell_type": "code",
   "execution_count": 5,
   "id": "ca19efeb",
   "metadata": {},
   "outputs": [
    {
     "name": "stdout",
     "output_type": "stream",
     "text": [
      "Enter a number:3\n",
      "Enter a Your choice for series either 1 or 2:2\n",
      "0.5\n"
     ]
    }
   ],
   "source": [
    "def choice1(n):\n",
    "    sum=0\n",
    "    for i in range(1,n+1):\n",
    "        sum+=pow(1,i)/i\n",
    "        \n",
    "    return sum\n",
    "\n",
    "def choice2(n):\n",
    "    \n",
    "    sum=3/6\n",
    "    for i in range(1,n-2):\n",
    "        sum+=(i+(i+1)+(i+3))/(i*(i+1)*(i+3))\n",
    "        \n",
    "    return sum\n",
    "\n",
    "\n",
    "number=int(input('Enter a number:'))\n",
    "choice=int(input('Enter a Your choice for series either 1 or 2:'))\n",
    "\n",
    "if choice==1:\n",
    "    print(choice1(number))\n",
    "else:\n",
    "    print(choice2(number))\n",
    "    "
   ]
  },
  {
   "cell_type": "code",
   "execution_count": null,
   "id": "268ba4ff",
   "metadata": {},
   "outputs": [],
   "source": [
    "##QUESTION 11"
   ]
  },
  {
   "cell_type": "code",
   "execution_count": 7,
   "id": "43555e8f",
   "metadata": {},
   "outputs": [
    {
     "name": "stdout",
     "output_type": "stream",
     "text": [
      "Enter a string:Mississippi\n",
      "Counter({'i': 4, 's': 4, 'p': 2, 'M': 1})\n"
     ]
    }
   ],
   "source": [
    "from collections import Counter\n",
    "word=input(\"Enter a string:\")\n",
    "res = Counter(word)\n",
    "print (str(res))\n",
    "                                           "
   ]
  },
  {
   "cell_type": "code",
   "execution_count": null,
   "id": "bafa4711",
   "metadata": {},
   "outputs": [],
   "source": [
    "##QUESTION 12"
   ]
  },
  {
   "cell_type": "code",
   "execution_count": 18,
   "id": "978af1fb",
   "metadata": {},
   "outputs": [
    {
     "name": "stdout",
     "output_type": "stream",
     "text": [
      "Enter a string: Hello@World#How are(! you? *&\n",
      "HelloWorldHowareyou \n"
     ]
    }
   ],
   "source": [
    "string=input(\"Enter a string:\")\n",
    "new_string = ''.join(char for char in string if char.isalnum())+ \" \"\n",
    "print(new_string)"
   ]
  },
  {
   "cell_type": "code",
   "execution_count": null,
   "id": "e785d78e",
   "metadata": {},
   "outputs": [],
   "source": [
    "##QUESTION 12"
   ]
  },
  {
   "cell_type": "code",
   "execution_count": 20,
   "id": "ed3d9875",
   "metadata": {},
   "outputs": [
    {
     "name": "stdout",
     "output_type": "stream",
     "text": [
      "Enter a string:Hello@World#How are(! you? *&\n",
      "New string: Hello World How are   you    \n"
     ]
    }
   ],
   "source": [
    "string=input(\"Enter a string:\")\n",
    "special_char = '@_!#$%^&*()<>?/\\|}{~:;[]'\n",
    "for i in special_char:\n",
    "    string = string.replace(i, ' ')\n",
    "print('New string:', string)"
   ]
  },
  {
   "cell_type": "code",
   "execution_count": null,
   "id": "dc5926c9",
   "metadata": {},
   "outputs": [],
   "source": [
    "##QUESTION 13"
   ]
  },
  {
   "cell_type": "code",
   "execution_count": 22,
   "id": "9915cdab",
   "metadata": {},
   "outputs": [
    {
     "name": "stdout",
     "output_type": "stream",
     "text": [
      "Enter a string:Python-is-a-programming-language\n",
      "Python\n",
      "is\n",
      "a\n",
      "programming\n",
      "language\n"
     ]
    }
   ],
   "source": [
    "str1 = input(\"Enter a string:\")\n",
    "substrings = str1.split(\"-\")\n",
    "for sub in substrings:\n",
    "    print(sub)\n",
    " "
   ]
  },
  {
   "cell_type": "code",
   "execution_count": null,
   "id": "3773b48d",
   "metadata": {},
   "outputs": [],
   "source": [
    "##QUESTION 14"
   ]
  },
  {
   "cell_type": "code",
   "execution_count": 1,
   "id": "a3fbf4aa",
   "metadata": {},
   "outputs": [
    {
     "name": "stdout",
     "output_type": "stream",
     "text": [
      "Enter a string1:Hello\n",
      "Enter a string2:World\n",
      "HWlrod\n"
     ]
    }
   ],
   "source": [
    "def mix(s1, s2):\n",
    "    first = s1[:1] + s2[:1]\n",
    "    middle = s1[int(len(s1) / 2):int(len(s1) / 2) + 1] + s2[int(len(s2) / 2):int(len(s2) / 2) + 1]\n",
    "    last = s1[len(s1) - 1] + s2[len(s2) - 1]\n",
    "    ans = first + middle + last\n",
    "    print(ans)\n",
    "    \n",
    "str1 = input(\"Enter a string1:\")\n",
    "str2 = input(\"Enter a string2:\")\n",
    "mix(str1,str2)"
   ]
  },
  {
   "cell_type": "code",
   "execution_count": null,
   "id": "bcd25187",
   "metadata": {},
   "outputs": [],
   "source": [
    "##QUESTION 16"
   ]
  },
  {
   "cell_type": "code",
   "execution_count": 2,
   "id": "c3ab7938",
   "metadata": {},
   "outputs": [
    {
     "name": "stdout",
     "output_type": "stream",
     "text": [
      "(50, 40, 30, 20, 10)\n"
     ]
    }
   ],
   "source": [
    "def Reverse(tuples):\n",
    "    new_tup = tuples[::-1]\n",
    "    return new_tup\n",
    "      \n",
    "\n",
    "tuples = (10, 20 , 30 , 40, 50)\n",
    "print(Reverse(tuples))"
   ]
  },
  {
   "cell_type": "code",
   "execution_count": null,
   "id": "417b5aba",
   "metadata": {},
   "outputs": [],
   "source": [
    "##QUESTION 17"
   ]
  },
  {
   "cell_type": "code",
   "execution_count": 5,
   "id": "22532236",
   "metadata": {},
   "outputs": [
    {
     "name": "stdout",
     "output_type": "stream",
     "text": [
      "(11, [222, 33], 44, 55)\n"
     ]
    }
   ],
   "source": [
    "T= (11, [22, 33], 44, 55)\n",
    "x=list(T)\n",
    "x[1][0]=222\n",
    "print(tuple(x))"
   ]
  },
  {
   "cell_type": "code",
   "execution_count": null,
   "id": "0faa06c7",
   "metadata": {},
   "outputs": [],
   "source": [
    "##QUESTION 18"
   ]
  },
  {
   "cell_type": "code",
   "execution_count": 9,
   "id": "3d599efe",
   "metadata": {},
   "outputs": [
    {
     "name": "stdout",
     "output_type": "stream",
     "text": [
      "Doesn't Exist\n"
     ]
    }
   ],
   "source": [
    "T = ('a' , 'b' ,'c' , 'a', 'e', 'a' , 'b' , 'e' ,'o')\n",
    "if '50' in T:\n",
    "  print(\"Yes\", T.count('50'))\n",
    "else:\n",
    "  print(\"Doesn't Exist\")"
   ]
  },
  {
   "cell_type": "code",
   "execution_count": null,
   "id": "59c0d725",
   "metadata": {},
   "outputs": [],
   "source": [
    "##QUESTION 19"
   ]
  },
  {
   "cell_type": "code",
   "execution_count": 11,
   "id": "d983ece8",
   "metadata": {},
   "outputs": [
    {
     "name": "stdout",
     "output_type": "stream",
     "text": [
      "{40, 50, 30}\n"
     ]
    }
   ],
   "source": [
    "def common(set1,set2):\n",
    "    a_set=set(set1)\n",
    "    b_set=set(set2)\n",
    "    if len(a_set.intersection(b_set)) > 0:\n",
    "        return(a_set.intersection(b_set)) \n",
    "    else:\n",
    "        return(\"no common elements\")\n",
    "\n",
    "set1 = [10, 20, 30, 40, 50]\n",
    "set2 = [30, 40, 50, 60, 70]\n",
    "print(common(set1,set2))\n"
   ]
  },
  {
   "cell_type": "code",
   "execution_count": null,
   "id": "2308d6b8",
   "metadata": {},
   "outputs": [],
   "source": [
    "##QUESTION 20"
   ]
  },
  {
   "cell_type": "code",
   "execution_count": 12,
   "id": "95c7cb68",
   "metadata": {},
   "outputs": [
    {
     "name": "stdout",
     "output_type": "stream",
     "text": [
      "{40, 50}\n"
     ]
    }
   ],
   "source": [
    "set1 = {10, 20, 30, 40, 50}\n",
    "set1.difference_update({10, 20, 30})\n",
    "print(set1)"
   ]
  },
  {
   "cell_type": "code",
   "execution_count": null,
   "id": "1cc69561",
   "metadata": {},
   "outputs": [],
   "source": [
    "##QUESTION 21"
   ]
  },
  {
   "cell_type": "code",
   "execution_count": 13,
   "id": "429b176e",
   "metadata": {},
   "outputs": [
    {
     "name": "stdout",
     "output_type": "stream",
     "text": [
      "{20, 70, 10, 60}\n"
     ]
    }
   ],
   "source": [
    "set1 = {10, 20, 30, 40, 50}\n",
    "set2 = {30, 40, 50, 60, 70}\n",
    "print(set1.symmetric_difference(set2))"
   ]
  },
  {
   "cell_type": "code",
   "execution_count": null,
   "id": "09679978",
   "metadata": {},
   "outputs": [],
   "source": [
    "##QUESTION 22"
   ]
  },
  {
   "cell_type": "code",
   "execution_count": 20,
   "id": "663d2e58",
   "metadata": {},
   "outputs": [
    {
     "name": "stdout",
     "output_type": "stream",
     "text": [
      "List: [65, 99, 41, 45, 87, 94]\n",
      "Tuple: (65, 99, 41, 45, 87, 94)\n",
      "Min: 41\n",
      "Max: 99\n"
     ]
    }
   ],
   "source": [
    "sampleList = [87, 45, 41, 65, 94, 41, 99, 94]\n",
    "print(\"List:\",list(set(sampleList)))\n",
    "print(\"Tuple:\",tuple(set(sampleList)))\n",
    "print(\"Min:\",min(tuple(set(sampleList))))\n",
    "print(\"Max:\",max(tuple(set(sampleList))))"
   ]
  },
  {
   "cell_type": "code",
   "execution_count": null,
   "id": "36afdcb1",
   "metadata": {},
   "outputs": [],
   "source": [
    "##QUESTION 26"
   ]
  },
  {
   "cell_type": "code",
   "execution_count": 6,
   "id": "798186fa",
   "metadata": {},
   "outputs": [
    {
     "name": "stdout",
     "output_type": "stream",
     "text": [
      "Arman\n",
      "80000\n"
     ]
    }
   ],
   "source": [
    "def return_key(val):\n",
    "    for key, value in dict1.items():\n",
    "        if key==val:\n",
    "            return value\n",
    "    return('Key Not Found')\n",
    "\n",
    "\n",
    "dict1 = {\n",
    " \"name\": \"Arman\",\n",
    " \"age\":21,\n",
    " \"salary\": 80000,\n",
    " \"city\": \"Ranchi\",\n",
    " \"country\": \"India\"\n",
    "}\n",
    "    \n",
    "print(return_key(\"name\"))\n",
    "print(return_key(\"salary\"))"
   ]
  },
  {
   "cell_type": "code",
   "execution_count": 7,
   "id": "f6961035",
   "metadata": {},
   "outputs": [
    {
     "name": "stdout",
     "output_type": "stream",
     "text": [
      "{'name': 'Arman', 'salary': 80000, 'city': 'Ranchi'}\n"
     ]
    }
   ],
   "source": [
    "dict1 = {\n",
    " \"name\": \"Arman\",\n",
    " \"age\":21,\n",
    " \"salary\": 80000,\n",
    " \"city\": \"Ranchi\",\n",
    " \"country\": \"India\"\n",
    "}\n",
    "\n",
    "\n",
    "dict1.pop(\"age\");\n",
    "dict1.pop(\"country\");\n",
    "print(dict1);"
   ]
  },
  {
   "cell_type": "code",
   "execution_count": 10,
   "id": "b82c1929",
   "metadata": {},
   "outputs": [
    {
     "name": "stdout",
     "output_type": "stream",
     "text": [
      "{'name': 'Arman', 'age': 21, 'salary': 80000, 'country': 'India', 'location': 'Ranchi'}\n"
     ]
    }
   ],
   "source": [
    "dict1 = {\n",
    " \"name\": \"Arman\",\n",
    " \"age\":21,\n",
    " \"salary\": 80000,\n",
    " \"city\": \"Ranchi\",\n",
    " \"country\": \"India\"\n",
    "}\n",
    "new_key=\"location\"\n",
    "old_key=\"city\"\n",
    "dict1[new_key] = dict1. pop(old_key)\n",
    "        \n",
    "print(dict1)"
   ]
  },
  {
   "cell_type": "code",
   "execution_count": null,
   "id": "a51b5227",
   "metadata": {},
   "outputs": [],
   "source": [
    "##QUESTION 24"
   ]
  },
  {
   "cell_type": "code",
   "execution_count": 11,
   "id": "8ea16904",
   "metadata": {},
   "outputs": [
    {
     "name": "stdout",
     "output_type": "stream",
     "text": [
      "Enter a number:7\n",
      "111"
     ]
    }
   ],
   "source": [
    "def decToBinary(n):\n",
    "    binaryNum = [0] * n;\n",
    "    i = 0;\n",
    "    while (n > 0):\n",
    "        binaryNum[i] = n % 2;\n",
    "        n = int(n / 2);\n",
    "        i += 1;\n",
    "    for j in range(i - 1, -1, -1):\n",
    "        print(binaryNum[j], end = \"\");\n",
    "        \n",
    "number=int(input('Enter a number:'))\n",
    "decToBinary(number);"
   ]
  },
  {
   "cell_type": "code",
   "execution_count": null,
   "id": "60cfd293",
   "metadata": {},
   "outputs": [],
   "source": [
    "##QUESTION 25"
   ]
  },
  {
   "cell_type": "code",
   "execution_count": 17,
   "id": "3f444f28",
   "metadata": {},
   "outputs": [
    {
     "name": "stdout",
     "output_type": "stream",
     "text": [
      "Enter a number:100\n",
      "0\n"
     ]
    }
   ],
   "source": [
    "import random \n",
    "n = random. randint(0,101) \n",
    "number=int(input('Enter a number:'))\n",
    "award=0\n",
    "if number==n:\n",
    "    award+=10000\n",
    "a=n%10\n",
    "b=n/10\n",
    "a1=number%10\n",
    "b2=number/100\n",
    "if (a==a1 or a==b2)and(b==a1 or b==b2):\n",
    "    award+=3000\n",
    "if (a==a1 or a==b2) or (b==a1  or b==b2):\n",
    "    award+=1000\n",
    "    \n",
    "    \n",
    "print(award)"
   ]
  },
  {
   "cell_type": "code",
   "execution_count": null,
   "id": "bd1165a3",
   "metadata": {},
   "outputs": [],
   "source": [
    "##QUESTION 23"
   ]
  },
  {
   "cell_type": "code",
   "execution_count": 23,
   "id": "36ea9b5f",
   "metadata": {},
   "outputs": [
    {
     "name": "stdout",
     "output_type": "stream",
     "text": [
      "{(7, 49), (2, 4), (4, 16), (8, 64), (6, 36), (3, 9), (5, 25)}\n"
     ]
    }
   ],
   "source": [
    "def merge(list1, list2):\n",
    "      \n",
    "    merged_list = tuple(zip(list1, list2)) \n",
    "    return merged_list\n",
    "      \n",
    "\n",
    "FirstList= [2, 3, 4, 5, 6, 7, 8]\n",
    "SecondList =[4, 9, 16, 25, 36, 49, 64]\n",
    "\n",
    "print(set(merge(FirstList,SecondList)))\n",
    "\n"
   ]
  }
 ],
 "metadata": {
  "kernelspec": {
   "display_name": "Python 3",
   "language": "python",
   "name": "python3"
  },
  "language_info": {
   "codemirror_mode": {
    "name": "ipython",
    "version": 3
   },
   "file_extension": ".py",
   "mimetype": "text/x-python",
   "name": "python",
   "nbconvert_exporter": "python",
   "pygments_lexer": "ipython3",
   "version": "3.8.8"
  }
 },
 "nbformat": 4,
 "nbformat_minor": 5
}
