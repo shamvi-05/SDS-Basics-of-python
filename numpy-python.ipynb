{
 "cells": [
  {
   "cell_type": "code",
   "execution_count": 1,
   "id": "1c182d68",
   "metadata": {},
   "outputs": [],
   "source": [
    "import numpy "
   ]
  },
  {
   "cell_type": "code",
   "execution_count": null,
   "id": "d1f378b5",
   "metadata": {},
   "outputs": [],
   "source": [
    "##Arrays"
   ]
  },
  {
   "cell_type": "code",
   "execution_count": 6,
   "id": "cb900c20",
   "metadata": {},
   "outputs": [
    {
     "name": "stdout",
     "output_type": "stream",
     "text": [
      "1 2 3 4 -8 -10\n",
      "[-10.  -8.   4.   3.   2.   1.]\n"
     ]
    }
   ],
   "source": [
    "def arrays(arr):\n",
    "    return(numpy.array(arr[::-1], float))\n",
    "arr = input().strip().split(' ')\n",
    "result = arrays(arr)\n",
    "print(result)"
   ]
  },
  {
   "cell_type": "code",
   "execution_count": null,
   "id": "782061a7",
   "metadata": {},
   "outputs": [],
   "source": [
    "##Shape and Reshape"
   ]
  },
  {
   "cell_type": "code",
   "execution_count": 8,
   "id": "6902c148",
   "metadata": {},
   "outputs": [
    {
     "name": "stdout",
     "output_type": "stream",
     "text": [
      "1 2 3 4 5 6 7 8 9\n",
      "[[1 2 3]\n",
      " [4 5 6]\n",
      " [7 8 9]]\n"
     ]
    }
   ],
   "source": [
    "print(numpy.array(input().split(),int).reshape(3,3))"
   ]
  },
  {
   "cell_type": "code",
   "execution_count": null,
   "id": "a662acf6",
   "metadata": {},
   "outputs": [],
   "source": [
    "##Transpose and Flatten"
   ]
  },
  {
   "cell_type": "code",
   "execution_count": 5,
   "id": "0add0485",
   "metadata": {},
   "outputs": [
    {
     "name": "stdout",
     "output_type": "stream",
     "text": [
      "2 2\n",
      "1 2\n",
      "3 4\n",
      "[[1 3]\n",
      " [2 4]]\n",
      "[1 2 3 4]\n"
     ]
    }
   ],
   "source": [
    "n, m = map(int, input().split())\n",
    "array = numpy.array([input().strip().split() for _ in range(n)], int)\n",
    "print (array.transpose())\n",
    "print (array.flatten())\n"
   ]
  },
  {
   "cell_type": "code",
   "execution_count": null,
   "id": "900aee6c",
   "metadata": {},
   "outputs": [],
   "source": [
    "##Concatenate"
   ]
  },
  {
   "cell_type": "code",
   "execution_count": 3,
   "id": "64c167ab",
   "metadata": {
    "scrolled": true
   },
   "outputs": [
    {
     "name": "stdout",
     "output_type": "stream",
     "text": [
      "4 3 2\n",
      "1 2\n",
      "1 2\n",
      "1 2\n",
      "1 2\n",
      "3 4\n",
      "3 4\n",
      "3 4\n",
      "[[1 2]\n",
      " [1 2]\n",
      " [1 2]\n",
      " [1 2]\n",
      " [3 4]\n",
      " [3 4]\n",
      " [3 4]]\n"
     ]
    }
   ],
   "source": [
    "n, m,p = map(int, input().split())\n",
    "array1 = numpy.array([input().strip().split() for _ in range(n)], int)\n",
    "array2 = numpy.array([input().strip().split() for _ in range(m)], int)\n",
    "print(numpy.concatenate((array1, array2), axis = 0))"
   ]
  },
  {
   "cell_type": "code",
   "execution_count": null,
   "id": "1bfefe44",
   "metadata": {},
   "outputs": [],
   "source": [
    "##Zeros and Ones"
   ]
  },
  {
   "cell_type": "code",
   "execution_count": 5,
   "id": "635a1278",
   "metadata": {},
   "outputs": [
    {
     "name": "stdout",
     "output_type": "stream",
     "text": [
      "3 3 3\n",
      "[[[0 0 0]\n",
      "  [0 0 0]\n",
      "  [0 0 0]]\n",
      "\n",
      " [[0 0 0]\n",
      "  [0 0 0]\n",
      "  [0 0 0]]\n",
      "\n",
      " [[0 0 0]\n",
      "  [0 0 0]\n",
      "  [0 0 0]]]\n",
      "[[[1 1 1]\n",
      "  [1 1 1]\n",
      "  [1 1 1]]\n",
      "\n",
      " [[1 1 1]\n",
      "  [1 1 1]\n",
      "  [1 1 1]]\n",
      "\n",
      " [[1 1 1]\n",
      "  [1 1 1]\n",
      "  [1 1 1]]]\n"
     ]
    }
   ],
   "source": [
    "nums = tuple(map(int, input().split()))\n",
    "print (numpy.zeros(nums, dtype = int))\n",
    "print (numpy.ones(nums, dtype = int))"
   ]
  },
  {
   "cell_type": "code",
   "execution_count": null,
   "id": "cec07139",
   "metadata": {},
   "outputs": [],
   "source": [
    "##Eye and Identity"
   ]
  },
  {
   "cell_type": "code",
   "execution_count": 6,
   "id": "ec3df783",
   "metadata": {},
   "outputs": [
    {
     "name": "stdout",
     "output_type": "stream",
     "text": [
      "3 3\n",
      "[[ 1.  0.  0.]\n",
      " [ 0.  1.  0.]\n",
      " [ 0.  0.  1.]]\n"
     ]
    }
   ],
   "source": [
    "n,m = map(int, input().split(' '))\n",
    "numpy.set_printoptions(sign=' ')\n",
    "print(numpy.eye(n,m))"
   ]
  },
  {
   "cell_type": "code",
   "execution_count": null,
   "id": "683c4040",
   "metadata": {},
   "outputs": [],
   "source": [
    "##Array Mathematics"
   ]
  },
  {
   "cell_type": "code",
   "execution_count": 3,
   "id": "202fea63",
   "metadata": {},
   "outputs": [
    {
     "name": "stdout",
     "output_type": "stream",
     "text": [
      "1 4\n",
      "1 2 3 4\n",
      "5 6 7 8\n",
      "[[ 6  8 10 12]]\n",
      "[[-4 -4 -4 -4]]\n",
      "[[ 5 12 21 32]]\n",
      "[[0 0 0 0]]\n",
      "[[1 2 3 4]]\n",
      "[[    1    64  2187 65536]]\n"
     ]
    }
   ],
   "source": [
    "n, m = map(int, input().split())\n",
    "a = numpy.array([input().strip().split() for _ in range(n)], int)\n",
    "b = numpy.array([input().strip().split() for _ in range(n)], int)\n",
    "print (numpy.add(a, b) )\n",
    "print (numpy.subtract(a, b))\n",
    "print(numpy.multiply(a, b))\n",
    "print (a//b)\n",
    "print (a % b) \n",
    "print (a**b)       \n"
   ]
  },
  {
   "cell_type": "code",
   "execution_count": null,
   "id": "1fe2e416",
   "metadata": {},
   "outputs": [],
   "source": [
    "##Floor, Ceil and Rint"
   ]
  },
  {
   "cell_type": "code",
   "execution_count": 4,
   "id": "8ba2ab72",
   "metadata": {},
   "outputs": [
    {
     "name": "stdout",
     "output_type": "stream",
     "text": [
      "1.1 2.2 3.3 4.4 5.5 6.6 7.7 8.8 9.9\n",
      "[ 1.  2.  3.  4.  5.  6.  7.  8.  9.]\n",
      "[  2.   3.   4.   5.   6.   7.   8.   9.  10.]\n",
      "[  1.   2.   3.   4.   6.   7.   8.   9.  10.]\n"
     ]
    }
   ],
   "source": [
    "my_array = numpy.array(input().split() , float)\n",
    "numpy.set_printoptions(sign=' ')\n",
    "print (numpy.floor(my_array))\n",
    "print (numpy.ceil(my_array))\n",
    "print (numpy.rint(my_array)) \n"
   ]
  },
  {
   "cell_type": "code",
   "execution_count": null,
   "id": "bc6fe0cd",
   "metadata": {},
   "outputs": [],
   "source": [
    "##Sum and Prod"
   ]
  },
  {
   "cell_type": "code",
   "execution_count": 6,
   "id": "870b2103",
   "metadata": {},
   "outputs": [
    {
     "name": "stdout",
     "output_type": "stream",
     "text": [
      "2 2\n",
      "1 2\n",
      "3 4\n",
      "24\n"
     ]
    }
   ],
   "source": [
    "n, m = map(int, input().split())\n",
    "arr = numpy.array([input().split() for _ in range(n)],int)\n",
    "print(numpy.prod(numpy.sum(arr, axis=0), axis=0))"
   ]
  },
  {
   "cell_type": "code",
   "execution_count": null,
   "id": "413ac0cd",
   "metadata": {},
   "outputs": [],
   "source": [
    "##Min and Max"
   ]
  },
  {
   "cell_type": "code",
   "execution_count": 7,
   "id": "d5c524aa",
   "metadata": {},
   "outputs": [
    {
     "name": "stdout",
     "output_type": "stream",
     "text": [
      "4 2\n",
      "2 5\n",
      "3 7\n",
      "1 3\n",
      "4 0\n",
      "3\n"
     ]
    }
   ],
   "source": [
    "n, m = map(int, input().split())\n",
    "arr = numpy.array([input().split() for _ in range(n)],int)\n",
    "print(numpy.max(numpy.min(arr, axis=1)))"
   ]
  },
  {
   "cell_type": "code",
   "execution_count": null,
   "id": "1a2a7d90",
   "metadata": {},
   "outputs": [],
   "source": [
    "##Mean, Var, and Std"
   ]
  },
  {
   "cell_type": "code",
   "execution_count": 2,
   "id": "0b137da8",
   "metadata": {},
   "outputs": [
    {
     "name": "stdout",
     "output_type": "stream",
     "text": [
      "2 2\n",
      "1 2\n",
      "3 4\n",
      "[1.5 3.5]\n",
      "[1. 1.]\n",
      "1.11803398875\n"
     ]
    }
   ],
   "source": [
    "n, m = map(int, input().split())\n",
    "my_array = numpy.array([input().split() for _ in range(n)],int)\n",
    "print (numpy.mean(my_array, axis = 1))\n",
    "print (numpy.var(my_array, axis = 0))\n",
    "print(round(numpy.std(my_array), 11))"
   ]
  },
  {
   "cell_type": "code",
   "execution_count": null,
   "id": "1b57ae48",
   "metadata": {},
   "outputs": [],
   "source": [
    "##Dot and Cross"
   ]
  },
  {
   "cell_type": "code",
   "execution_count": 3,
   "id": "1d3adfdc",
   "metadata": {},
   "outputs": [
    {
     "name": "stdout",
     "output_type": "stream",
     "text": [
      "2\n",
      "1 2\n",
      "3 4\n",
      "1 2\n",
      "3 4\n",
      "[[ 7 10]\n",
      " [15 22]]\n"
     ]
    }
   ],
   "source": [
    "n= int(input())\n",
    "a = numpy.array([input().strip().split() for _ in range(n)], int)\n",
    "b = numpy.array([input().strip().split() for _ in range(n)], int)\n",
    "print (numpy.dot(a,b))"
   ]
  },
  {
   "cell_type": "code",
   "execution_count": null,
   "id": "de22c2f2",
   "metadata": {},
   "outputs": [],
   "source": [
    "##Inner and Outer"
   ]
  },
  {
   "cell_type": "code",
   "execution_count": 4,
   "id": "a0afe698",
   "metadata": {},
   "outputs": [
    {
     "name": "stdout",
     "output_type": "stream",
     "text": [
      "0 1\n",
      "2 3\n",
      "3\n",
      "[[0 0]\n",
      " [2 3]]\n"
     ]
    }
   ],
   "source": [
    "a = numpy.array(input().strip().split() , int)\n",
    "b = numpy.array(input().strip().split(), int)\n",
    "print (numpy.inner(a,b))\n",
    "print (numpy.outer(a,b))"
   ]
  },
  {
   "cell_type": "code",
   "execution_count": null,
   "id": "e0af3f7d",
   "metadata": {},
   "outputs": [],
   "source": [
    "##Polynomials"
   ]
  },
  {
   "cell_type": "code",
   "execution_count": 5,
   "id": "b815c8a0",
   "metadata": {},
   "outputs": [
    {
     "name": "stdout",
     "output_type": "stream",
     "text": [
      "1.1 2 3\n",
      "0\n",
      "3.0\n"
     ]
    }
   ],
   "source": [
    "a = numpy.array(input().strip().split() , float)\n",
    "x=int(input())\n",
    "print (numpy.polyval(a,x))"
   ]
  },
  {
   "cell_type": "code",
   "execution_count": null,
   "id": "d13b3a55",
   "metadata": {},
   "outputs": [],
   "source": [
    "##Linear Algebra"
   ]
  },
  {
   "cell_type": "code",
   "execution_count": 6,
   "id": "f0a8ec7a",
   "metadata": {},
   "outputs": [
    {
     "name": "stdout",
     "output_type": "stream",
     "text": [
      "2\n",
      "1.1 1.1\n",
      "1.1 1.1\n",
      "0.0\n"
     ]
    }
   ],
   "source": [
    "import numpy\n",
    "n= int(input())\n",
    "a = numpy.array([input().strip().split() for _ in range(n)], float)\n",
    "print (round(numpy.linalg.det(a) ,2))"
   ]
  },
  {
   "cell_type": "code",
   "execution_count": null,
   "id": "4f4bbece",
   "metadata": {},
   "outputs": [],
   "source": [
    "##"
   ]
  }
 ],
 "metadata": {
  "kernelspec": {
   "display_name": "Python 3",
   "language": "python",
   "name": "python3"
  },
  "language_info": {
   "codemirror_mode": {
    "name": "ipython",
    "version": 3
   },
   "file_extension": ".py",
   "mimetype": "text/x-python",
   "name": "python",
   "nbconvert_exporter": "python",
   "pygments_lexer": "ipython3",
   "version": "3.8.8"
  }
 },
 "nbformat": 4,
 "nbformat_minor": 5
}
